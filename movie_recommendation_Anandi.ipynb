{
  "nbformat": 4,
  "nbformat_minor": 0,
  "metadata": {
    "colab": {
      "provenance": [],
      "toc_visible": true
    },
    "kernelspec": {
      "name": "python3",
      "display_name": "Python 3"
    },
    "language_info": {
      "name": "python"
    }
  },
  "cells": [
    {
      "cell_type": "code",
      "source": [
        "from sklearn.feature_extraction.text import CountVectorizer\n",
        "from sklearn.metrics.pairwise import cosine_similarity\n",
        "\n",
        "text = [\"London Paris London\",\"Paris Paris London\"]\n",
        "cv = CountVectorizer()\n",
        "\n",
        "count_matrix = cv.fit_transform(text)\n",
        "\n",
        "#print count_matrix.toarray()\n",
        "similarity_scores = cosine_similarity(count_matrix)\n",
        "\n",
        "print(similarity_scores)"
      ],
      "metadata": {
        "id": "Z3gxta4qxgJD",
        "colab": {
          "base_uri": "https://localhost:8080/"
        },
        "outputId": "c4bb7c5b-8380-4f34-c4a5-1444d18a664b"
      },
      "execution_count": 14,
      "outputs": [
        {
          "output_type": "stream",
          "name": "stdout",
          "text": [
            "[[1.  0.8]\n",
            " [0.8 1. ]]\n",
            "[[1.  0.8]\n",
            " [0.8 1. ]]\n"
          ]
        }
      ]
    },
    {
      "cell_type": "code",
      "source": [
        "import pandas as pd\n",
        "import numpy as np\n",
        "from sklearn.feature_extraction.text import CountVectorizer\n",
        "from sklearn.metrics.pairwise import cosine_similarity"
      ],
      "metadata": {
        "id": "lZOAnIj7xkc8"
      },
      "execution_count": 15,
      "outputs": []
    },
    {
      "cell_type": "code",
      "source": [
        "def get_title_from_index(index):\n",
        "\treturn df[df.index == index][\"title\"].values[0]\n",
        "\n",
        "def get_index_from_title(title):\n",
        "\treturn df[df.title == title][\"index\"].values[0]"
      ],
      "metadata": {
        "id": "WdyFNFgBxpFv"
      },
      "execution_count": 17,
      "outputs": []
    },
    {
      "cell_type": "code",
      "source": [
        "df = pd.read_csv(\"../content/drive/MyDrive/movie_dataset.csv\")"
      ],
      "metadata": {
        "id": "m_4yEz4HxvyO"
      },
      "execution_count": 18,
      "outputs": []
    },
    {
      "cell_type": "code",
      "source": [
        "features = ['keywords','cast','genres','director']"
      ],
      "metadata": {
        "id": "FvxOqLZyyDTL"
      },
      "execution_count": 19,
      "outputs": []
    },
    {
      "cell_type": "code",
      "source": [
        "for feature in features:\n",
        "\tdf[feature] = df[feature].fillna('')\n",
        "\n",
        "def combine_features(row):\n",
        "\ttry:\n",
        "\t\treturn row['keywords'] +\" \"+row['cast']+\" \"+row[\"genres\"]+\" \"+row[\"director\"]\n",
        "\texcept:\n",
        "\t\tprint(\"Error:\",row)\n",
        "\n",
        "df[\"combined_features\"] = df.apply(combine_features,axis=1)\n",
        "\n",
        "print(\"Combined Features:\",df[\"combined_features\"].head())"
      ],
      "metadata": {
        "colab": {
          "base_uri": "https://localhost:8080/"
        },
        "id": "R8nSHPzwyIKe",
        "outputId": "3417780c-49f8-4c2c-91e3-0a8b379470c7"
      },
      "execution_count": 20,
      "outputs": [
        {
          "output_type": "stream",
          "name": "stdout",
          "text": [
            "Combined Features: 0    culture clash future space war space colony so...\n",
            "1    ocean drug abuse exotic island east india trad...\n",
            "2    spy based on novel secret agent sequel mi6 Dan...\n",
            "3    dc comics crime fighter terrorist secret ident...\n",
            "4    based on novel mars medallion space travel pri...\n",
            "Name: combined_features, dtype: object\n"
          ]
        }
      ]
    },
    {
      "cell_type": "code",
      "source": [
        "cv = CountVectorizer()\n",
        "\n",
        "count_matrix = cv.fit_transform(df[\"combined_features\"])\n",
        "\n",
        "cosine_sim = cosine_similarity(count_matrix)\n",
        "movie_user_likes = \"The Avengers\"\n"
      ],
      "metadata": {
        "id": "tRGg2Qu7yK6x"
      },
      "execution_count": 22,
      "outputs": []
    },
    {
      "cell_type": "code",
      "source": [
        "cv = CountVectorizer()\n",
        "\n",
        "count_matrix = cv.fit_transform(df[\"combined_features\"])\n",
        "\n",
        "cosine_sim = cosine_similarity(count_matrix)\n",
        "movie_user_likes = \"The Avengers\"\n"
      ],
      "metadata": {
        "id": "VEr9R28RyRrD"
      },
      "execution_count": 23,
      "outputs": []
    },
    {
      "cell_type": "code",
      "source": [
        "#Let's Inspect the vote_average feature and check if there are any null values. Looks like it is clean.\n",
        "df[\"vote_average\"].unique()"
      ],
      "metadata": {
        "id": "YOh1iocYyd2K",
        "colab": {
          "base_uri": "https://localhost:8080/"
        },
        "outputId": "9c18f42b-0464-41c1-be90-922251e29bd3"
      },
      "execution_count": 24,
      "outputs": [
        {
          "output_type": "execute_result",
          "data": {
            "text/plain": [
              "array([ 7.2,  6.9,  6.3,  7.6,  6.1,  5.9,  7.4,  7.3,  5.7,  5.4,  7. ,\n",
              "        6.5,  6.4,  6.2,  7.1,  5.8,  6.6,  7.5,  5.5,  6.7,  6.8,  6. ,\n",
              "        5.1,  7.8,  5.6,  5.2,  8.2,  7.7,  5.3,  8. ,  4.8,  4.9,  7.9,\n",
              "        8.1,  4.7,  5. ,  4.2,  4.4,  4.1,  3.7,  3.6,  3. ,  3.9,  4.3,\n",
              "        4.5,  3.4,  4.6,  8.3,  3.5,  4. ,  2.3,  3.2,  0. ,  3.8,  2.9,\n",
              "        8.5,  1.9,  3.1,  3.3,  2.2,  0.5,  9.3,  8.4,  2.7, 10. ,  1. ,\n",
              "        2. ,  2.8,  9.5,  2.6,  2.4])"
            ]
          },
          "metadata": {},
          "execution_count": 24
        }
      ]
    },
    {
      "cell_type": "code",
      "source": [
        "movie_index = get_index_from_title(movie_user_likes)\n",
        "similar_movies =  list(enumerate(cosine_sim[movie_index]))\n",
        "\n",
        "sorted_similar_movies = sorted(similar_movies,key=lambda x:x[1],reverse=True)"
      ],
      "metadata": {
        "id": "RjDyfihCVRyt"
      },
      "execution_count": 26,
      "outputs": []
    },
    {
      "cell_type": "code",
      "source": [
        "i=0\n",
        "print(\"Top 10 similar movies to \"+movie_user_likes+\" are:\\n\")\n",
        "for element in sorted_similar_movies:\n",
        "    print(get_title_from_index(element[0]))\n",
        "    i=i+1\n",
        "    if i>10:\n",
        "        break"
      ],
      "metadata": {
        "colab": {
          "base_uri": "https://localhost:8080/"
        },
        "id": "eVwVKmRaVLZH",
        "outputId": "58441112-75be-4c78-d7b9-189d02ffc8ea"
      },
      "execution_count": 27,
      "outputs": [
        {
          "output_type": "stream",
          "name": "stdout",
          "text": [
            "Top 10 similar movies to The Avengers are:\n",
            "\n",
            "The Avengers\n",
            "Avengers: Age of Ultron\n",
            "Iron Man 2\n",
            "Captain America: The Winter Soldier\n",
            "Captain America: Civil War\n",
            "Thor: The Dark World\n",
            "The Incredible Hulk\n",
            "Ant-Man\n",
            "X-Men\n",
            "X2\n",
            "Captain America: The First Avenger\n"
          ]
        }
      ]
    },
    {
      "cell_type": "code",
      "source": [
        "\n",
        "\n",
        "\n",
        "movies = [\n",
        "    \"Stiff Upper Lips\",\n",
        "    \"Dancer, Texas Pop. 81\",\n",
        "    \"Me You and Five Bucks\",\n",
        "    \"Little Big Top\",\n",
        "    \"Sardaarji\",\n",
        "    \"One Man's Hero\",\n",
        "    \"The Shawshank Redemption\",\n",
        "    \"There Goes My Baby\",\n",
        "    \"The Prisoner of Zenda\",\n",
        "    \"The Godfather\",\n",
        "    \"Whiplash\"\n",
        "]\n",
        "\n",
        "ratings = {}  # Define the ratings dictionary\n",
        "\n",
        "print(\"Please rate the following movies out of 10:\")\n",
        "\n",
        "for movie in movies:\n",
        "    rating = input(f\"Rate '{movie}': \")\n",
        "    try:\n",
        "        rating = float(rating)\n",
        "        if rating < 0 or rating > 10:\n",
        "            raise ValueError(\"Rating should be between 0 and 10\")\n",
        "        ratings[movie] = rating\n",
        "    except ValueError:\n",
        "        print(\"Invalid rating! Please enter a number between 0 and 10.\")\n",
        "\n",
        "print(\"\\nRatings of the movies:\")\n",
        "for movie, rating in ratings.items():\n",
        "    print(f\"{movie}: {rating}\")"
      ],
      "metadata": {
        "id": "RzzZZJyuB_Jz",
        "colab": {
          "base_uri": "https://localhost:8080/"
        },
        "outputId": "3ffd4f16-08d9-4cba-ff65-79a9112e0c70"
      },
      "execution_count": 28,
      "outputs": [
        {
          "output_type": "stream",
          "name": "stdout",
          "text": [
            "Please rate the following movies out of 10:\n",
            "Rate 'Stiff Upper Lips': 6\n",
            "Rate 'Dancer, Texas Pop. 81': 7\n",
            "Rate 'Me You and Five Bucks': 7\n",
            "Rate 'Little Big Top': 5\n",
            "Rate 'Sardaarji': \n",
            "Rate 'One Man's Hero': \n",
            "Invalid rating! Please enter a number between 0 and 10.\n",
            "Invalid rating! Please enter a number between 0 and 10.\n",
            "Rate 'The Shawshank Redemption': 8\n",
            "Rate 'There Goes My Baby': 7\n",
            "Rate 'The Prisoner of Zenda': 7\n",
            "Rate 'The Godfather': \n",
            "Invalid rating! Please enter a number between 0 and 10.\n",
            "Rate 'Whiplash': 8\n",
            "\n",
            "Ratings of the movies:\n",
            "Stiff Upper Lips: 6.0\n",
            "Dancer, Texas Pop. 81: 7.0\n",
            "Me You and Five Bucks: 7.0\n",
            "Little Big Top: 5.0\n",
            "The Shawshank Redemption: 8.0\n",
            "There Goes My Baby: 7.0\n",
            "The Prisoner of Zenda: 7.0\n",
            "Whiplash: 8.0\n"
          ]
        }
      ]
    }
  ]
}